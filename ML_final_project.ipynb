{
  "nbformat": 4,
  "nbformat_minor": 0,
  "metadata": {
    "colab": {
      "provenance": [],
      "authorship_tag": "ABX9TyOOAuyIg/HCrnVqNt6dkLZv",
      "include_colab_link": true
    },
    "kernelspec": {
      "name": "python3",
      "display_name": "Python 3"
    },
    "language_info": {
      "name": "python"
    }
  },
  "cells": [
    {
      "cell_type": "markdown",
      "metadata": {
        "id": "view-in-github",
        "colab_type": "text"
      },
      "source": [
        "<a href=\"https://colab.research.google.com/github/youjinlee430/introduction-to-ML/blob/main/ML_final_project.ipynb\" target=\"_parent\"><img src=\"https://colab.research.google.com/assets/colab-badge.svg\" alt=\"Open In Colab\"/></a>"
      ]
    },
    {
      "cell_type": "code",
      "execution_count": 2,
      "metadata": {
        "colab": {
          "base_uri": "https://localhost:8080/"
        },
        "id": "AjhmIfw7qkTn",
        "outputId": "2bcd0a24-944f-4e7c-adaf-521580e33a45"
      },
      "outputs": [
        {
          "output_type": "stream",
          "name": "stdout",
          "text": [
            "Mounted at /content/drive\n"
          ]
        }
      ],
      "source": [
        "from google.colab import drive\n",
        "drive.mount (\"/content/drive\")"
      ]
    },
    {
      "cell_type": "code",
      "source": [
        "import pandas as pd\n",
        "df= pd.read_csv(\"/content/drive/MyDrive/이더리움 과거 데이터.csv\")\n",
        "print(df)"
      ],
      "metadata": {
        "colab": {
          "base_uri": "https://localhost:8080/"
        },
        "id": "tCL9vYWTrxfz",
        "outputId": "60803f02-e821-4093-b467-9df4c709e7f3"
      },
      "execution_count": 13,
      "outputs": [
        {
          "output_type": "stream",
          "name": "stdout",
          "text": [
            "                날짜        종가        시가        고가        저가      거래량    변동 %\n",
            "0     2023- 09- 17  1,628.72  1,634.41  1,634.41  1,620.87  101.79K  -0.35%\n",
            "1     2023- 09- 16  1,634.41  1,641.31  1,650.04  1,631.74  107.11K  -0.42%\n",
            "2     2023- 09- 15  1,641.31  1,626.49  1,652.40  1,612.25  194.29K   0.91%\n",
            "3     2023- 09- 14  1,626.49  1,607.63  1,639.23  1,607.08  293.64K   1.17%\n",
            "4     2023- 09- 13  1,607.63  1,592.50  1,614.43  1,582.03  238.31K   0.95%\n",
            "...            ...       ...       ...       ...       ...      ...     ...\n",
            "1091  2020- 09- 21    341.30    371.09    375.34    331.41   11.41M  -8.03%\n",
            "1092  2020- 09- 20    371.12    385.33    385.39    365.48    7.30M  -3.67%\n",
            "1093  2020- 09- 19    385.25    384.25    386.99    377.63    6.74M   0.27%\n",
            "1094  2020- 09- 18    384.20    389.37    392.21    375.81    8.95M  -1.23%\n",
            "1095  2020- 09- 17    388.97    364.75    393.96    363.54   12.85M   6.60%\n",
            "\n",
            "[1096 rows x 7 columns]\n"
          ]
        }
      ]
    }
  ]
}